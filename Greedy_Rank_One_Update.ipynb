{
 "nbformat": 4,
 "nbformat_minor": 0,
 "metadata": {
  "colab": {
   "provenance": []
  },
  "kernelspec": {
   "name": "python3",
   "display_name": "Python 3"
  },
  "language_info": {
   "name": "python"
  }
 },
 "cells": [
  {
   "cell_type": "markdown",
   "source": [
    "# **ALGORITMO VORAZ CON ACTUALIZACIONES DE RANGO UNO**"
   ],
   "metadata": {
    "id": "Oke1M0k3caBE"
   }
  },
  {
   "cell_type": "markdown",
   "source": [
    "En este cuaderno se exponen los ejemplos presentados en la memoria *Análisis de un algoritmo voraz con actualizaciones de rango uno para la resolución de sistemas lineales de altas dimensiones*\n",
    "\n",
    "Se estructura de la siguiente forma: \n",
    "\n",
    "\n",
    "1.   Primero se presenta un ejemplo donde se utiliza el algoritmo GROU para aproximar la representación separada de un vector alreatorio dado.\n",
    "\n",
    "2.   Luego se resuelve un sistema de ecuaciones mediante el algoritmo GROU\n",
    "\n",
    "3.   Por último se utiliza el algoritmo para aproximar la solución de la ecuación de Poisson con condiciones Dirichlet. En este último se aprovecha la estructura Laplaciana de la matriz de coeficientes.\n"
   ],
   "metadata": {
    "id": "1WfDsipEcqfw"
   }
  },
  {
   "cell_type": "markdown",
   "source": [
    "Se presentan las fucniones que vamos a utlizar:\n",
    "\n",
    "Como nos hemos limitado a trabajar sobre matrices y vectores, se ha diseñado una función que realice el producto de Kronecker entre estos objetos."
   ],
   "metadata": {
    "id": "UfbzXLpTfgjP"
   }
  },
  {
   "cell_type": "markdown",
   "source": [
    "Se importan primero todas las funciones necesarias."
   ],
   "metadata": {
    "id": "AIO6Za-_1aBC"
   }
  },
  {
   "cell_type": "code",
   "source": [
    "from utils import *"
   ],
   "metadata": {
    "colab": {
     "base_uri": "https://localhost:8080/",
     "height": 304
    },
    "id": "TSHlZm2f1XdQ",
    "outputId": "dbe20631-a309-4459-e209-e05ceb24e17a"
   },
   "execution_count": 1,
   "outputs": []
  },
  {
   "cell_type": "code",
   "source": [
    "def kronecker_product(A, B):\n",
    "    # nos aseguramos de que los objetos tengan dos dimensiones, aunque una de ellas sea 1\n",
    "    A = np.atleast_2d(A)\n",
    "    B = np.atleast_2d(B)\n",
    "\n",
    "    # se inicializa el resultado\n",
    "    C = np.zeros((np.shape(A)[0] * np.shape(B)[0], np.shape(A)[1] * np.shape(B)[1]))\n",
    "    # se itera sobre las filas de A\n",
    "    for i in range(np.shape(A)[0]):\n",
    "        # se itera sobre las columnas de A\n",
    "        for j in range(np.shape(A)[1]):\n",
    "            # se itera sobre las filas de B\n",
    "            for k in range(np.shape(B)[0]):\n",
    "                # se itera sobre las columnas de B\n",
    "                for l in range(np.shape(B)[1]):\n",
    "                    C[i * np.shape(B)[0] + k, j * np.shape(B)[1] + l] = A[i, j] * B[k, l]\n",
    "    return C\n",
    "\n",
    "def kronecker_product_l(list):\n",
    "    # devuelve el producto de Kronecker de una lista de matrices\n",
    "    if len(list) == 1:\n",
    "        return list[0]\n",
    "    else:\n",
    "        return kronecker_product(list[0], kronecker_product_l(list[1:]))  # de forma recursiva se llama a sí misma\n"
   ],
   "metadata": {
    "id": "pr5vXjgugRSt"
   },
   "execution_count": 2,
   "outputs": []
  },
  {
   "cell_type": "markdown",
   "source": [
    "Necesitamos definir la función de error que se utiliza."
   ],
   "metadata": {
    "id": "owo5FL1bhiEi"
   }
  },
  {
   "cell_type": "code",
   "source": [
    "def error_als3(x, a, d):\n",
    "    # esta función calcula el error del problema\n",
    "    # como el productorio de la diferencia entre cada\n",
    "    # componente de x y a\n",
    "    error = 1\n",
    "    for i in range(d):\n",
    "        error = error * np.linalg.norm(x[i] - a[i])\n",
    "        # print(error)\n",
    "    return error\n",
    "\n",
    "def error_als(x,a,d):\n",
    "    return np.linalg.norm(x-a)\n",
    "\n"
   ],
   "metadata": {
    "id": "QboHADhshvBV"
   },
   "execution_count": 3,
   "outputs": []
  },
  {
   "cell_type": "markdown",
   "source": [
    "Se define el algoritmo **ALS** (*Alternating Least Squares*) que vamos a usar para resolver el problema de minimización en cada iteración del algoritmo **GROU**\n",
    "\n",
    "\\begin{equation}\n",
    "\\min _{\\left(\\mathbf{x}_1, \\ldots, \\mathbf{x}_d\\right) \\in \\mathbb{R}^{N_1} \\times \\cdots \\times \\mathbb{R}^{N_d}}\\left\\|\\mathbf{r}_n-A\\left(\\mathbf{x}_1 \\otimes \\cdots \\otimes \\mathbf{x}_d\\right)\\right\\|_2\n",
    "\\end{equation}"
   ],
   "metadata": {
    "id": "nasM_1RWkTxk"
   }
  },
  {
   "cell_type": "code",
   "source": [
    "def ALS3(f,A,itera_max,tol,N):\n",
    "    try:\n",
    "        d = len(N)\n",
    "        # esta función devuelve el vector x que minimiza el problema de mínimos cuadrados\n",
    "        # | Ax - f |\n",
    "        # mediante el algoritmo ALS3\n",
    "        # inicializamos el vector x\n",
    "\n",
    "        x = [np.random.rand(N[i], 1) for i in range(d)]\n",
    "        # inicializamos el contador de iteraciones\n",
    "        itera = 0\n",
    "        # iteramos hasta alcanzar el número máximo de iteraciones o hasta que el error sea menor que la tolerancia\n",
    "        while itera < itera_max:\n",
    "            # movemos el actual vector x al vector a\n",
    "            a = x.copy()\n",
    "            if itera == 0:\n",
    "                x = a.copy()\n",
    "            # iteramos sobre cada componente del vector x\n",
    "            for k in range(d):\n",
    "                # calculamos la matriz Z que es la matriz con\n",
    "                # el producto de kronecker de las componentes\n",
    "                # del vector x (ya actualizadas) excepto la k-ésima. A partir\n",
    "                # de la k-ésima componente, usamos las componentes\n",
    "                # del vector a (son las componentes que aún no hemos actualizado)\n",
    "                Z = np.eye(N[k])\n",
    "                for i in range(d):\n",
    "                    if i < k:\n",
    "                        # se premultiplica por x[i]\n",
    "                        Z = kronecker_product(x[i], Z)\n",
    "                    elif i > k:\n",
    "                        # se posmultiplica por a[i]\n",
    "                        Z = kronecker_product(Z, a[i])\n",
    "\n",
    "                    else:\n",
    "                        pass\n",
    "                # sale del producto de kronecker correspondiente a la componente k\n",
    "                # luego la premultiplicamos por la matriz A\n",
    "\n",
    "                Z = matriz_x_matrix(A, Z)    \n",
    "                # producto con A correspondiente a la componente k\n",
    "                # calculamos la pseudo inversa de la matriz Z\n",
    "                # Z_pinv = pseudoinv2(Z)\n",
    "                Z_pinv = pseudoinv(Z)\n",
    "                # actualizamos el nuevo vector x_k\n",
    "                x[k] = matriz_x_matrix(Z_pinv, f)\n",
    "                x[k] = x[k].reshape(N[k], 1)\n",
    "\n",
    "            # comprobamos si el error es menor que la tolerancia\n",
    "            if error_als3(x, a, d) < tol:\n",
    "                print(itera, 'iteraciones realizadas')\n",
    "                return x\n",
    "            itera += 1\n",
    "        print(itera, 'iteraciones realizadas')\n",
    "        return x\n",
    "    except KeyboardInterrupt:\n",
    "        print(itera, 'iteraciones realizadas')\n",
    "        return x"
   ],
   "metadata": {
    "id": "IZPm8KvKl-y4"
   },
   "execution_count": 4,
   "outputs": []
  },
  {
   "cell_type": "markdown",
   "source": [
    "Se define el algoritmo **GROU**, el *algoritmo voraz con actualizaciones de rango uno* que usaremos para resolver los ejemplos"
   ],
   "metadata": {
    "id": "nwhHMo4Xnqi3"
   }
  },
  {
   "cell_type": "code",
   "source": [
    "def GROU(f, A, e, tol, rank_max, itera_max, N, inner_procedure):\n",
    "    \"\"\"\n",
    "    Esta función resuelve el sistema lineal Ax = f usando el algoritmo GROU con representación separada del vector incógnita.\n",
    "\n",
    "    Parámetros\n",
    "    ----------\n",
    "    f : numpy.ndarray\n",
    "        La parte derecha de la igualdad, vector de términos independientes del sistema.\n",
    "    A : numpy.ndarray\n",
    "        La matriz de coeficientes del sistema lineal.\n",
    "    e : float\n",
    "        La tolerancia sobre la norma del residuo.\n",
    "    tol : float\n",
    "        La tolerancia sobre norma de la variación del residuo.\n",
    "    rank_max : int\n",
    "        Máximo rango de separación del tensor x.\n",
    "    itera_max : int\n",
    "        Máximo número de iteraciones del algoritmo ALS.\n",
    "\n",
    "    Salida\n",
    "    -------\n",
    "    tuple\n",
    "        Se devuelve una tupla (u, r_norm) \n",
    "        donde u es la representación separada del vector desconocido \n",
    "        y r_norm es la norma del residuo. \n",
    "\n",
    "    Notas\n",
    "    -------\n",
    "\n",
    "    > El algoritmo va a tratar de encontrar una actualización satisfactoria \n",
    "    para u, en el caso en que no se encuentre porque el procedimiento \n",
    "    de minimización no reduzca la norma entonces se intenta de nuevo con un \n",
    "    nuevo punto inicial (según la teoría esto puede ocurrir porque no se han realizado\n",
    "    las suficientes iteraciones, o bien porque el mínimo local que se ha encontrado no \n",
    "    es suficiente para reducir la norma del residuo) \n",
    "\n",
    "    > Si después de 10 iteraciones no se reduce la norma del residuo, se supone\n",
    "    que las iteraciones internas (por ejemplo, de ALS3) necesarias para reducirla \n",
    "    no son rentables y nos conformamos con el residuo actual. \n",
    "\n",
    "    \"\"\"\n",
    "    try:\n",
    "        # si el procedimiento es ALS4 será porque le estamos pasando la matriz en \n",
    "        # representación separada, entonces se conforma la matriz para productos con 'y'\n",
    "        if inner_procedure == ALS4:\n",
    "            print('procedimiento ALS4')\n",
    "            A_exp = conforma_matriz(A, N)\n",
    "        elif inner_procedure == ALS3:\n",
    "            print('procedimiento ALS3')\n",
    "            A_exp = A\n",
    "        else:\n",
    "            raise TypeError('el procedimiento debe ser ALS3 o ALS4')\n",
    "        # Inicializamos el residuo, el primer elemento r[0] va a ser el vector de \n",
    "        # términos independientes, el segundo va a ser el residuo en cada iteración\n",
    "        r = [0, f.copy()]\n",
    "        u = np.zeros(np.shape(f)[0])\n",
    "        # aseguramos que u es un vector columna\n",
    "        u = u.reshape(np.shape(u)[0], 1)\n",
    "        OK = 0\n",
    "        MAL = 0\n",
    "        ESTABLE = 0\n",
    "        # Hasta que se alcance el rango máximo....\n",
    "        for i in range(rank_max):\n",
    "            # Se actualiza el residuo, cambiamos el nuevo por el viejo para actualizar siempre el penúltimo residuo.\n",
    "            r[0], r[1] = r[1], r[0]\n",
    "            # ejecutamos el procedimiento minimizante para encontrar la actualización de la solución\n",
    "            y = kronecker_product_l(inner_procedure(r[0], A, itera_max, tol, N))\n",
    "            # actualizamos el residuo sobreescribiendo el que ya no se necesitará\n",
    "            r[1] = r[0] - array_vector_product(A_exp, y)\n",
    "\n",
    "            # se imprime la iteración externa (GROU) y la norma actual del residuo\n",
    "            print('(', i+1, ') ', 'norma del residuo: ', ln.norm(r[1]))\n",
    "            if ln.norm(r[1]) < ln.norm(r[0]):\n",
    "                OK += 1\n",
    "                # se imprime \n",
    "                print('iteración satisfactoria')\n",
    "                u = u + y\n",
    "                print('u', u.shape)\n",
    "            else:\n",
    "                print('iteración ha ido mal, no se reduce residuo')\n",
    "                print('se intenta de nuevo...')\n",
    "                # si ha ido mal la actualización por ALS* entonces se intenta otra vez\n",
    "                # por si no se hubiera llegado a un mínimo satisfactorio\n",
    "                # volvemos a usar el mismo residuo y no actualizamos la solución\n",
    "                r[0], r[1] = r[1], r[0]\n",
    "                MAL += 1\n",
    "                if MAL > 10:\n",
    "                    # pero si no hay mejora en unas cuantas iteraciones, entonces se \n",
    "                    # supone que ya no va a haberla en la práctica\n",
    "                    return u, ln.norm(r[1])\n",
    "            # si todo ha ido bien y el algoritmo converge o bien no hay suficiente mejora, entoces se termina\n",
    "            # el proceso y devolvemos la solución y la norma del residuo\n",
    "            if ln.norm(r[1]) < e or abs(ln.norm(r[1]) - ln.norm(r[0])) < tol:\n",
    "                print(OK, MAL)\n",
    "                return u, ln.norm(r[1])\n",
    "\n",
    "        # si el algoritmo no converge se devuelve también la solución y la norma del residuo\n",
    "        print(OK, MAL)\n",
    "        return u, ln.norm(r[1])\n",
    "    # opción 'parada de emergencia'\n",
    "    except KeyboardInterrupt:\n",
    "        print('Detectado KeyboardInterrupt.')\n",
    "        print('Número de mejoras en residuo: ', OK)\n",
    "        print('Número de empeoramientos en residuo: ', MAL)\n",
    "        return 'Interrupted'"
   ],
   "metadata": {
    "id": "h-X28di8oBCU"
   },
   "execution_count": 5,
   "outputs": []
  },
  {
   "cell_type": "markdown",
   "source": [
    "Definimos el mismo algoritmo con una modificación en caso de que la matriz venga en representación separada. Podemos utilizar las propiedades del producto de Kronecker para simplificar los cálculos."
   ],
   "metadata": {
    "id": "ILsTsWOFyeDp"
   }
  },
  {
   "cell_type": "code",
   "source": [
    "def sum_matrices(list):\n",
    "    # returns sum of matrices in list\n",
    "    if len(list) == 1:\n",
    "        return list[0]\n",
    "    else:\n",
    "        return list[0] + sum_matrices(list[1:])\n",
    "\n",
    "\n",
    "def separated_product(A, B, N):\n",
    "    # this function returns the product of two matrices A and B\n",
    "    # that are given in separated representation with the dimensions N\n",
    "    C = []\n",
    "    for A_sub in A:\n",
    "        for B_sub in B:\n",
    "            C.append(kronecker_product_l([np.dot(A_sub[i], B_sub[i]) for i in range(len(A_sub))]))\n",
    "    return sum_matrices(C)\n"
   ],
   "metadata": {
    "id": "nrqiGV3uz86g"
   },
   "execution_count": 6,
   "outputs": []
  },
  {
   "cell_type": "code",
   "source": [
    "def GROU_sep(f, A, e, tol, rank_max, itera_max, N, inner_procedure):\n",
    "    \"\"\"\n",
    "    Esta función resuelve el sistema lineal Ax = f usando el algoritmo GROU con representación separada del vector incógnita.\n",
    "\n",
    "    Parámetros\n",
    "    ----------\n",
    "    f : numpy.ndarray\n",
    "        La parte derecha de la igualdad, vector de términos independientes del sistema.\n",
    "    A : numpy.ndarray\n",
    "        La matriz de coeficientes del sistema lineal.\n",
    "    e : float\n",
    "        La tolerancia sobre la norma del residuo.\n",
    "    tol : float\n",
    "        La tolerancia sobre norma de la variación del residuo.\n",
    "    rank_max : int\n",
    "        Máximo rango de separación del tensor x.\n",
    "    itera_max : int\n",
    "        Máximo número de iteraciones del algoritmo ALS.\n",
    "\n",
    "    Salida\n",
    "    -------\n",
    "    tuple\n",
    "        Se devuelve una tupla (u, r_norm)\n",
    "        donde u es la representación separada del vector desconocido\n",
    "        y r_norm es la norma del residuo.\n",
    "\n",
    "    Notas\n",
    "    -------\n",
    "\n",
    "    > El algoritmo va a tratar de encontrar una actualización satisfactoria\n",
    "    para u, en el caso en que no se encuentre porque el procedimiento\n",
    "    de minimización no reduzca la norma entonces se intenta de nuevo con un\n",
    "    nuevo punto inicial (según la teoría esto puede ocurrir porque no se han realizado\n",
    "    las suficientes iteraciones, o bien porque el mínimo local que se ha encontrado no\n",
    "    es suficiente para reducir la norma del residuo)\n",
    "\n",
    "    > Si después de 10 iteraciones no se reduce la norma del residuo, se supone\n",
    "    que las iteraciones internas (por ejemplo, de ALS3) necesarias para reducirla\n",
    "    no son rentables y nos conformamos con el residuo actual.\n",
    "\n",
    "    \"\"\"\n",
    "    try:\n",
    "        # si el procedimiento es ALS4 será porque le estamos pasando la matriz en\n",
    "        # representación separada, entonces se conforma la matriz para productos con 'y'\n",
    "        if inner_procedure == ALS4:\n",
    "            print('procedimiento ALS4')\n",
    "        elif inner_procedure == ALS3:\n",
    "            print('procedimiento ALS3')\n",
    "        else:\n",
    "            raise TypeError('el procedimiento debe ser ALS3 o ALS4')\n",
    "        # aquí inner_procedure es siempre ALS4 pero mantengo el TypeError\n",
    "        inner_procedure = ALS4\n",
    "        # Inicializamos el residuo, el primer elemento r[0] va a ser el vector de\n",
    "        # términos independientes, el segundo va a ser el residuo en cada iteración\n",
    "        r = [0, f.copy()]\n",
    "        u = np.zeros(np.shape(f)[0])\n",
    "        # aseguramos que u es un vector columna\n",
    "        u = u.reshape(np.shape(u)[0], 1)\n",
    "        OK = 0\n",
    "        MAL = 0\n",
    "        ESTABLE = 0\n",
    "        # Hasta que se alcance el rango máximo....\n",
    "        for i in range(rank_max):\n",
    "            # Se actualiza el residuo, cambiamos el nuevo por el viejo para actualizar siempre el penúltimo residuo.\n",
    "            r[0], r[1] = r[1], r[0]\n",
    "            # ejecutamos el procedimiento minimizante para encontrar la actualización de la solución\n",
    "            y = [inner_procedure(r[0], A, itera_max, tol, N)]\n",
    "            # actualizamos el residuo sobreescribiendo el que ya no se necesitará\n",
    "            for ele in range(len(y)):\n",
    "                y[0][ele] = y[0][ele].reshape(np.shape(y[0][ele])[0], 1)\n",
    "            aux_y = np.array(separated_product(A, y, N))\n",
    "            r[1] = r[0] - aux_y.reshape(aux_y.shape[0],)\n",
    "\n",
    "            # se imprime la iteración externa (GROU) y la norma actual del residuo\n",
    "\n",
    "            if ln.norm(r[1]) < ln.norm(r[0]):\n",
    "                OK += 1\n",
    "                # se imprime\n",
    "                print('iteración satisfactoria')\n",
    "                # se imprime la iteración externa (GROU) y la norma actual del residuo\n",
    "                print('(', i + 1, ') ', 'norma del residuo: ', ln.norm(r[1]))\n",
    "                u = u + kronecker_product_l(y[0])\n",
    "                print('u', u.shape)\n",
    "                # se reinitializa el contador de iteraciones MAL\n",
    "                MAL = 0\n",
    "            else:\n",
    "                print('iteración ha ido mal, no se reduce residuo')\n",
    "                print('se intenta de nuevo...')\n",
    "                # se imprime la iteración externa (GROU) y la norma actual del residuo\n",
    "                print('norma del residuo actual ', ln.norm(r[1]))\n",
    "                # si ha ido mal la actualización por ALS* entonces se intenta otra vez\n",
    "                # por si no se hubiera llegado a un mínimo satisfactorio\n",
    "                # volvemos a usar el mismo residuo y no actualizamos la solución\n",
    "                r[0], r[1] = r[1], r[0]\n",
    "                MAL += 1\n",
    "                if MAL > 5:\n",
    "                    # pero si no hay mejora en unas cuantas iteraciones, entonces se\n",
    "                    # supone que ya no va a haberla en la práctica\n",
    "                    return u, ln.norm(r[1])\n",
    "\n",
    "            # el proceso y devolvemos la solución y la norma del residuo\n",
    "            if ln.norm(r[1]) < e or abs(ln.norm(r[1]) - ln.norm(r[0])) < tol:\n",
    "                print(OK, MAL)\n",
    "                return u, ln.norm(r[1])\n",
    "\n",
    "        # si el algoritmo no converge se devuelve también la solución y la norma del residuo\n",
    "        print(OK, MAL)\n",
    "        return u, ln.norm(r[1])\n",
    "    # opción 'parada de emergencia'\n",
    "    except KeyboardInterrupt:\n",
    "        print('Detectado KeyboardInterrupt.')\n",
    "        print('Número de mejoras en residuo: ', OK)\n",
    "        print('Número de empeoramientos en residuo: ', MAL)\n",
    "        return 'Interrupted'\n"
   ],
   "metadata": {
    "id": "F0k2IGvfydg-"
   },
   "execution_count": 7,
   "outputs": []
  },
  {
   "cell_type": "markdown",
   "source": [
    "Vamos con los ejemplos.\n",
    "\n",
    "En primer lugar se utiliza el algoritmo GROU sin representación separada"
   ],
   "metadata": {
    "id": "h8KO-LWAyxMj"
   }
  },
  {
   "cell_type": "markdown",
   "source": [
    "Se genera un tensor de orden $d=4$ con dimensiones $N_1 = N_2 = N_3 = N_4 = 6$ y un vector aleatorio como lado derecho del sistema"
   ],
   "metadata": {
    "id": "pNdbvvRr3Lv-"
   }
  },
  {
   "cell_type": "code",
   "source": [
    "# *****      definimos las dimensiones del problema                                                                 ***** \n",
    "N = [4,4,4,4]\n",
    "# ----------------------------------------------------------------------------------------------------------------------\n",
    "# *****      definimos A                                                                                            *****\n",
    "a = -np.ones(3)\n",
    "A = np.diag(a, -1) + np.diag(a, 1)\n",
    "A = np.diag(6*np.ones(4), 0) + A\n",
    "A = kronecker_product_l([A, np.eye(4), np.eye(4), np.eye(4)])+kronecker_product_l([np.eye(4), A, np.eye(4), np.eye(4)])+kronecker_product_l([np.eye(4), np.eye(4), A, np.eye(4)])+kronecker_product_l([np.eye(4), np.eye(4), np.eye(4), A])\n",
    "#\n",
    "#\n",
    "#\n",
    "# ----------------------------------------------------------------------------------------------------------------------\n",
    "# *****      definimos f                                                                                            *****\n",
    "f = 1*np.ones(np.prod(N))\n",
    "\n",
    "# ----------------------------------------------------------------------------------------------------------------------\n",
    "# *****     definimos los parámetros del problema                                                                   *****\n",
    "itera_max = 10\n",
    "tol = 2.22E-16\n",
    "rank_max = 1000\n",
    "e = 1.0E-8\n",
    "\n",
    "# ----------------------------------------------------------------------------------------------------------------------\n",
    "# *****     resolvemos el problema                                                                                  *****\n",
    "\n",
    "result = GROU(f, A, e, tol, rank_max, itera_max, N=[4, 4, 4, 4], inner_procedure=ALS3)\n",
    "print(result[0][:9],result[1])\n"
   ],
   "metadata": {
    "colab": {
     "base_uri": "https://localhost:8080/",
     "height": 235
    },
    "id": "pmI36mfU3TrQ",
    "outputId": "a3fcbcf2-9078-45a3-eb89-adfa5c380334"
   },
   "execution_count": 9,
   "outputs": [
    {
     "name": "stdout",
     "output_type": "stream",
     "text": [
      "procedimiento ALS3\n",
      "2 iteraciones realizadas\n",
      "( 1 )  norma del residuo:  0.02460727631727551\n",
      "iteración satisfactoria\n",
      "u (256, 1)\n",
      "5 iteraciones realizadas\n",
      "( 2 )  norma del residuo:  0.01905180234481767\n",
      "iteración satisfactoria\n",
      "u (256, 1)\n",
      "6 iteraciones realizadas\n",
      "( 3 )  norma del residuo:  0.012112651347122534\n",
      "iteración satisfactoria\n",
      "u (256, 1)\n",
      "4 iteraciones realizadas\n",
      "( 4 )  norma del residuo:  0.0095565546819898\n",
      "iteración satisfactoria\n",
      "u (256, 1)\n",
      "6 iteraciones realizadas\n",
      "( 5 )  norma del residuo:  0.005960083791025272\n",
      "iteración satisfactoria\n",
      "u (256, 1)\n",
      "6 iteraciones realizadas\n",
      "( 6 )  norma del residuo:  0.004700089054356158\n",
      "iteración satisfactoria\n",
      "u (256, 1)\n",
      "6 iteraciones realizadas\n",
      "( 7 )  norma del residuo:  0.0029326639116796244\n",
      "iteración satisfactoria\n",
      "u (256, 1)\n",
      "4 iteraciones realizadas\n",
      "( 8 )  norma del residuo:  0.0023123471294593926\n",
      "iteración satisfactoria\n",
      "u (256, 1)\n",
      "8 iteraciones realizadas\n",
      "( 9 )  norma del residuo:  0.001443084314305956\n",
      "iteración satisfactoria\n",
      "u (256, 1)\n",
      "6 iteraciones realizadas\n",
      "( 10 )  norma del residuo:  0.0011364705777586151\n",
      "iteración satisfactoria\n",
      "u (256, 1)\n",
      "6 iteraciones realizadas\n",
      "( 11 )  norma del residuo:  0.0007100696926704293\n",
      "iteración satisfactoria\n",
      "u (256, 1)\n",
      "4 iteraciones realizadas\n",
      "( 12 )  norma del residuo:  0.0005597923697774951\n",
      "iteración satisfactoria\n",
      "u (256, 1)\n",
      "6 iteraciones realizadas\n",
      "( 13 )  norma del residuo:  0.0003494314476956884\n",
      "iteración satisfactoria\n",
      "u (256, 1)\n",
      "7 iteraciones realizadas\n",
      "( 14 )  norma del residuo:  0.0002752719777693866\n",
      "iteración satisfactoria\n",
      "u (256, 1)\n",
      "5 iteraciones realizadas\n",
      "( 15 )  norma del residuo:  0.00017193834745147474\n",
      "iteración satisfactoria\n",
      "u (256, 1)\n",
      "2 iteraciones realizadas\n",
      "( 16 )  norma del residuo:  0.00013550559562130812\n",
      "iteración satisfactoria\n",
      "u (256, 1)\n",
      "6 iteraciones realizadas\n",
      "( 17 )  norma del residuo:  8.465962483009109e-05\n",
      "iteración satisfactoria\n",
      "u (256, 1)\n",
      "5 iteraciones realizadas\n",
      "( 18 )  norma del residuo:  6.668089507155591e-05\n",
      "iteración satisfactoria\n",
      "u (256, 1)\n",
      "9 iteraciones realizadas\n",
      "( 19 )  norma del residuo:  4.165811668165119e-05\n",
      "iteración satisfactoria\n",
      "u (256, 1)\n",
      "3 iteraciones realizadas\n",
      "( 20 )  norma del residuo:  3.288909574758995e-05\n",
      "iteración satisfactoria\n",
      "u (256, 1)\n",
      "6 iteraciones realizadas\n",
      "( 21 )  norma del residuo:  2.0557923249549616e-05\n",
      "iteración satisfactoria\n",
      "u (256, 1)\n",
      "5 iteraciones realizadas\n",
      "( 22 )  norma del residuo:  1.6230385449584446e-05\n",
      "iteración satisfactoria\n",
      "u (256, 1)\n",
      "4 iteraciones realizadas\n",
      "( 23 )  norma del residuo:  1.012118640780751e-05\n",
      "iteración satisfactoria\n",
      "u (256, 1)\n",
      "4 iteraciones realizadas\n",
      "( 24 )  norma del residuo:  7.98962933235209e-06\n",
      "iteración satisfactoria\n",
      "u (256, 1)\n",
      "5 iteraciones realizadas\n",
      "( 25 )  norma del residuo:  5.0317320116965785e-06\n",
      "iteración satisfactoria\n",
      "u (256, 1)\n",
      "6 iteraciones realizadas\n",
      "( 26 )  norma del residuo:  3.964046930199722e-06\n",
      "iteración satisfactoria\n",
      "u (256, 1)\n",
      "4 iteraciones realizadas\n",
      "( 27 )  norma del residuo:  2.492613513174127e-06\n",
      "iteración satisfactoria\n",
      "u (256, 1)\n",
      "5 iteraciones realizadas\n",
      "( 28 )  norma del residuo:  1.9767582234112295e-06\n",
      "iteración satisfactoria\n",
      "u (256, 1)\n",
      "5 iteraciones realizadas\n",
      "( 29 )  norma del residuo:  1.2667065407582938e-06\n",
      "iteración satisfactoria\n",
      "u (256, 1)\n",
      "5 iteraciones realizadas\n",
      "( 30 )  norma del residuo:  9.997444571448534e-07\n",
      "iteración satisfactoria\n",
      "u (256, 1)\n",
      "5 iteraciones realizadas\n",
      "( 31 )  norma del residuo:  6.491520116191542e-07\n",
      "iteración satisfactoria\n",
      "u (256, 1)\n",
      "5 iteraciones realizadas\n",
      "( 32 )  norma del residuo:  5.205860140204791e-07\n",
      "iteración satisfactoria\n",
      "u (256, 1)\n",
      "6 iteraciones realizadas\n",
      "( 33 )  norma del residuo:  3.4945112745320467e-07\n",
      "iteración satisfactoria\n",
      "u (256, 1)\n",
      "7 iteraciones realizadas\n",
      "( 34 )  norma del residuo:  2.891038325091867e-07\n",
      "iteración satisfactoria\n",
      "u (256, 1)\n",
      "10 iteraciones realizadas\n",
      "( 35 )  norma del residuo:  2.011218038090583e-07\n",
      "iteración satisfactoria\n",
      "u (256, 1)\n",
      "7 iteraciones realizadas\n",
      "( 36 )  norma del residuo:  1.7111666183082084e-07\n",
      "iteración satisfactoria\n",
      "u (256, 1)\n",
      "6 iteraciones realizadas\n",
      "( 37 )  norma del residuo:  1.4208036951821531e-07\n",
      "iteración satisfactoria\n",
      "u (256, 1)\n",
      "10 iteraciones realizadas\n",
      "( 38 )  norma del residuo:  1.2915539512838298e-07\n",
      "iteración satisfactoria\n",
      "u (256, 1)\n",
      "10 iteraciones realizadas\n",
      "( 39 )  norma del residuo:  1.5637341592687458e-07\n",
      "iteración ha ido mal, no se reduce residuo\n",
      "se intenta de nuevo...\n",
      "10 iteraciones realizadas\n",
      "( 40 )  norma del residuo:  1.5292542194223714e-07\n",
      "iteración ha ido mal, no se reduce residuo\n",
      "se intenta de nuevo...\n",
      "10 iteraciones realizadas\n",
      "( 41 )  norma del residuo:  1.7139552231616566e-07\n",
      "iteración ha ido mal, no se reduce residuo\n",
      "se intenta de nuevo...\n",
      "10 iteraciones realizadas\n",
      "( 42 )  norma del residuo:  1.5803136845995422e-07\n",
      "iteración ha ido mal, no se reduce residuo\n",
      "se intenta de nuevo...\n",
      "10 iteraciones realizadas\n",
      "( 43 )  norma del residuo:  1.468486756223173e-07\n",
      "iteración ha ido mal, no se reduce residuo\n",
      "se intenta de nuevo...\n",
      "10 iteraciones realizadas\n",
      "( 44 )  norma del residuo:  1.4788095807775318e-07\n",
      "iteración ha ido mal, no se reduce residuo\n",
      "se intenta de nuevo...\n",
      "10 iteraciones realizadas\n",
      "( 45 )  norma del residuo:  1.5342056380779794e-07\n",
      "iteración ha ido mal, no se reduce residuo\n",
      "se intenta de nuevo...\n",
      "10 iteraciones realizadas\n",
      "( 46 )  norma del residuo:  1.4778606232244732e-07\n",
      "iteración ha ido mal, no se reduce residuo\n",
      "se intenta de nuevo...\n",
      "10 iteraciones realizadas\n",
      "( 47 )  norma del residuo:  1.613101376308165e-07\n",
      "iteración ha ido mal, no se reduce residuo\n",
      "se intenta de nuevo...\n",
      "10 iteraciones realizadas\n",
      "( 48 )  norma del residuo:  1.5828873151500694e-07\n",
      "iteración ha ido mal, no se reduce residuo\n",
      "se intenta de nuevo...\n",
      "10 iteraciones realizadas\n",
      "( 49 )  norma del residuo:  1.6137375975742123e-07\n",
      "iteración ha ido mal, no se reduce residuo\n",
      "se intenta de nuevo...\n",
      "[[0.05048723]\n",
      " [0.05292341]\n",
      " [0.05292341]\n",
      " [0.05048723]\n",
      " [0.05292341]\n",
      " [0.05558373]\n",
      " [0.05558373]\n",
      " [0.05292341]\n",
      " [0.05292341]] 1.2915539512838298e-07\n"
     ]
    }
   ]
  },
  {
   "cell_type": "markdown",
   "source": [
    "Ahora se utiliza el algoritmo GROU sin representación separada para resolver un sistema de ecuaciones con un tensor de orden $d=6$ con dimensiones $N_1 = N_2 = N_3 = N_4 = N_5 = N_6 = 4$ y un vector de unos como lado derecho del sistema"
   ],
   "metadata": {
    "collapsed": false
   }
  },
  {
   "cell_type": "code",
   "execution_count": 23,
   "outputs": [
    {
     "name": "stderr",
     "output_type": "stream",
     "text": [
      "C:\\Users\\34663\\anaconda3\\envs\\pythonProject3\\lib\\site-packages\\numpy\\linalg\\linalg.py:2139: RuntimeWarning: overflow encountered in det\n",
      "  r = _umath_linalg.det(a, signature=signature)\n"
     ]
    },
    {
     "name": "stdout",
     "output_type": "stream",
     "text": [
      "determinante:  inf\n",
      "procedimiento ALS3\n",
      "1 iteraciones realizadas\n",
      "( 1 )  norma del residuo:  1.5393543911455492e-12\n",
      "iteración satisfactoria\n",
      "u (4096, 1)\n",
      "1 0\n",
      "[[ 1.00000000e+00]\n",
      " [-2.25692957e-15]\n",
      " [ 1.00000000e+00]\n",
      " [-2.25692957e-15]\n",
      " [-2.00531982e-17]\n",
      " [ 4.52586560e-32]\n",
      " [-2.00531982e-17]\n",
      " [ 4.52586560e-32]\n",
      " [ 1.00000000e+00]] 1.5393543911455492e-12\n"
     ]
    }
   ],
   "source": [
    "N = [4,4,4,4,4,4]\n",
    "# ----------------------------------------------------------------------------------------------------------------------\n",
    "# *****      definimos A     *****\n",
    "A_1 = kronecker_product(np.eye(2),np.array([[1,1],[1,-1]]))\n",
    "A = kronecker_product_l([A_1,A_1,A_1,A_1,A_1,A_1])\n",
    "\n",
    "\n",
    "\n",
    "print('determinante: ', np.linalg.det(A))\n",
    "# ----------------------------------------------------------------------------------------------------------------------\n",
    "# *****      definimos f    *****\n",
    "f = 1*np.ones(np.prod(N))\n",
    "\n",
    "# # # ----------------------------------------------------------------------------------------------------------------------\n",
    "# # # *****     definimos los parámetros del problema     *****\n",
    "itera_max = 100\n",
    "tol = 2.22E-16\n",
    "rank_max = 1000\n",
    "e = 1.0E-8\n",
    "\n",
    "# ----------------------------------------------------------------------------------------------------------------------\n",
    "# *****     resolvemos el problema     *****\n",
    "\n",
    "result = GROU(f, A, e, tol, rank_max, itera_max, N=[4,4,4,4,4,4], inner_procedure=ALS3)\n",
    "print(result[0][:9],result[1])"
   ],
   "metadata": {
    "collapsed": false
   }
  },
  {
   "cell_type": "code",
   "execution_count": 24,
   "outputs": [
    {
     "data": {
      "text/plain": "array([ 1., -0.,  1., ...,  0., -0.,  0.])"
     },
     "execution_count": 24,
     "metadata": {},
     "output_type": "execute_result"
    }
   ],
   "source": [
    "np.linalg.solve(A,f)"
   ],
   "metadata": {
    "collapsed": false
   }
  },
  {
   "cell_type": "markdown",
   "source": [
    "Ahora el mismo problema, pero aprovechando la representación separada, la matriz de coeficientes de este sistema es de tamaño 65536x65536"
   ],
   "metadata": {
    "collapsed": false
   }
  },
  {
   "cell_type": "code",
   "execution_count": 25,
   "outputs": [
    {
     "name": "stdout",
     "output_type": "stream",
     "text": [
      "procedimiento ALS4\n",
      "1 iteraciones realizadas\n",
      "iteración satisfactoria\n",
      "( 1 )  norma del residuo:  4.215430736748079e-12\n",
      "u (65536, 1)\n",
      "1 0\n",
      "[[1.00000000e+00]\n",
      " [6.22982505e-17]\n",
      " [1.00000000e+00]\n",
      " [6.22982505e-17]\n",
      " [1.29434277e-16]\n",
      " [8.06352899e-33]\n",
      " [1.29434277e-16]\n",
      " [8.06352899e-33]\n",
      " [1.00000000e+00]] 4.215430736748079e-12\n"
     ]
    }
   ],
   "source": [
    "N = [4,4,4,4,4,4,4,4]\n",
    "# ----------------------------------------------------------------------------------------------------------------------\n",
    "# *****      definimos A     *****\n",
    "A_1 = kronecker_product(np.eye(2),np.array([[1,1],[1,-1]]))\n",
    "A = [[A_1,A_1,A_1,A_1,A_1,A_1,A_1,A_1]]\n",
    "\n",
    "# ----------------------------------------------------------------------------------------------------------------------\n",
    "# *****      definimos f    *****\n",
    "f = 1*np.ones(np.prod(N))\n",
    "\n",
    "# ----------------------------------------------------------------------------------------------------------------------\n",
    "# *****     definimos los parámetros del problema     *****\n",
    "itera_max = 100\n",
    "tol = 2.22E-16\n",
    "rank_max = 1000\n",
    "e = 1.0E-8\n",
    "\n",
    "# ----------------------------------------------------------------------------------------------------------------------\n",
    "# *****     resolvemos el problema     *****\n",
    "\n",
    "result = GROU_sep(f, A, e, tol, rank_max, itera_max, N=[4,4,4,4,4,4,4,4], inner_procedure=ALS4)\n",
    "print(result[0][:9],result[1])"
   ],
   "metadata": {
    "collapsed": false
   }
  },
  {
   "cell_type": "code",
   "execution_count": 28,
   "outputs": [
    {
     "ename": "KeyboardInterrupt",
     "evalue": "",
     "output_type": "error",
     "traceback": [
      "\u001B[1;31m---------------------------------------------------------------------------\u001B[0m",
      "\u001B[1;31mKeyboardInterrupt\u001B[0m                         Traceback (most recent call last)",
      "Cell \u001B[1;32mIn[28], line 1\u001B[0m\n\u001B[1;32m----> 1\u001B[0m A_E \u001B[38;5;241m=\u001B[39m \u001B[43mkronecker_product_l\u001B[49m\u001B[43m(\u001B[49m\u001B[43m[\u001B[49m\u001B[43mA_1\u001B[49m\u001B[43m,\u001B[49m\u001B[43mA_1\u001B[49m\u001B[43m,\u001B[49m\u001B[43mA_1\u001B[49m\u001B[43m,\u001B[49m\u001B[43mA_1\u001B[49m\u001B[43m,\u001B[49m\u001B[43mA_1\u001B[49m\u001B[43m,\u001B[49m\u001B[43mA_1\u001B[49m\u001B[43m,\u001B[49m\u001B[43mA_1\u001B[49m\u001B[43m,\u001B[49m\u001B[43mA_1\u001B[49m\u001B[43m]\u001B[49m\u001B[43m)\u001B[49m\n\u001B[0;32m      2\u001B[0m np\u001B[38;5;241m.\u001B[39mlinalg\u001B[38;5;241m.\u001B[39msolve(A_E,f)\n",
      "Cell \u001B[1;32mIn[2], line 24\u001B[0m, in \u001B[0;36mkronecker_product_l\u001B[1;34m(list)\u001B[0m\n\u001B[0;32m     22\u001B[0m     \u001B[38;5;28;01mreturn\u001B[39;00m \u001B[38;5;28mlist\u001B[39m[\u001B[38;5;241m0\u001B[39m]\n\u001B[0;32m     23\u001B[0m \u001B[38;5;28;01melse\u001B[39;00m:\n\u001B[1;32m---> 24\u001B[0m     \u001B[38;5;28;01mreturn\u001B[39;00m kronecker_product(\u001B[38;5;28mlist\u001B[39m[\u001B[38;5;241m0\u001B[39m], \u001B[43mkronecker_product_l\u001B[49m\u001B[43m(\u001B[49m\u001B[38;5;28;43mlist\u001B[39;49m\u001B[43m[\u001B[49m\u001B[38;5;241;43m1\u001B[39;49m\u001B[43m:\u001B[49m\u001B[43m]\u001B[49m\u001B[43m)\u001B[49m)\n",
      "Cell \u001B[1;32mIn[2], line 24\u001B[0m, in \u001B[0;36mkronecker_product_l\u001B[1;34m(list)\u001B[0m\n\u001B[0;32m     22\u001B[0m     \u001B[38;5;28;01mreturn\u001B[39;00m \u001B[38;5;28mlist\u001B[39m[\u001B[38;5;241m0\u001B[39m]\n\u001B[0;32m     23\u001B[0m \u001B[38;5;28;01melse\u001B[39;00m:\n\u001B[1;32m---> 24\u001B[0m     \u001B[38;5;28;01mreturn\u001B[39;00m \u001B[43mkronecker_product\u001B[49m\u001B[43m(\u001B[49m\u001B[38;5;28;43mlist\u001B[39;49m\u001B[43m[\u001B[49m\u001B[38;5;241;43m0\u001B[39;49m\u001B[43m]\u001B[49m\u001B[43m,\u001B[49m\u001B[43m \u001B[49m\u001B[43mkronecker_product_l\u001B[49m\u001B[43m(\u001B[49m\u001B[38;5;28;43mlist\u001B[39;49m\u001B[43m[\u001B[49m\u001B[38;5;241;43m1\u001B[39;49m\u001B[43m:\u001B[49m\u001B[43m]\u001B[49m\u001B[43m)\u001B[49m\u001B[43m)\u001B[49m\n",
      "Cell \u001B[1;32mIn[2], line 16\u001B[0m, in \u001B[0;36mkronecker_product\u001B[1;34m(A, B)\u001B[0m\n\u001B[0;32m     13\u001B[0m         \u001B[38;5;28;01mfor\u001B[39;00m k \u001B[38;5;129;01min\u001B[39;00m \u001B[38;5;28mrange\u001B[39m(np\u001B[38;5;241m.\u001B[39mshape(B)[\u001B[38;5;241m0\u001B[39m]):\n\u001B[0;32m     14\u001B[0m             \u001B[38;5;66;03m# se itera sobre las columnas de B\u001B[39;00m\n\u001B[0;32m     15\u001B[0m             \u001B[38;5;28;01mfor\u001B[39;00m l \u001B[38;5;129;01min\u001B[39;00m \u001B[38;5;28mrange\u001B[39m(np\u001B[38;5;241m.\u001B[39mshape(B)[\u001B[38;5;241m1\u001B[39m]):\n\u001B[1;32m---> 16\u001B[0m                 C[i \u001B[38;5;241m*\u001B[39m \u001B[43mnp\u001B[49m\u001B[38;5;241;43m.\u001B[39;49m\u001B[43mshape\u001B[49m\u001B[43m(\u001B[49m\u001B[43mB\u001B[49m\u001B[43m)\u001B[49m[\u001B[38;5;241m0\u001B[39m] \u001B[38;5;241m+\u001B[39m k, j \u001B[38;5;241m*\u001B[39m np\u001B[38;5;241m.\u001B[39mshape(B)[\u001B[38;5;241m1\u001B[39m] \u001B[38;5;241m+\u001B[39m l] \u001B[38;5;241m=\u001B[39m A[i, j] \u001B[38;5;241m*\u001B[39m B[k, l]\n\u001B[0;32m     17\u001B[0m \u001B[38;5;28;01mreturn\u001B[39;00m C\n",
      "File \u001B[1;32m<__array_function__ internals>:180\u001B[0m, in \u001B[0;36mshape\u001B[1;34m(*args, **kwargs)\u001B[0m\n",
      "\u001B[1;31mKeyboardInterrupt\u001B[0m: "
     ]
    }
   ],
   "source": [
    "A_E = kronecker_product_l([A_1,A_1,A_1,A_1,A_1,A_1,A_1,A_1])\n",
    "np.linalg.solve(A_E,f)"
   ],
   "metadata": {
    "collapsed": false
   }
  },
  {
   "cell_type": "code",
   "execution_count": null,
   "outputs": [],
   "source": [],
   "metadata": {
    "collapsed": false
   }
  }
 ]
}
