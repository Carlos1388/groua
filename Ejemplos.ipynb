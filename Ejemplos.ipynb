{
 "cells": [
  {
   "attachments": {},
   "cell_type": "markdown",
   "metadata": {
    "collapsed": false
   },
   "source": [
    "# Greedy Rank-One Update Algorithm"
   ]
  },
  {
   "attachments": {},
   "cell_type": "markdown",
   "metadata": {
    "collapsed": false
   },
   "source": [
    "Se muestran los ejemplos que aparecen en la memoria"
   ]
  },
  {
   "attachments": {},
   "cell_type": "markdown",
   "metadata": {
    "collapsed": false
   },
   "source": [
    "Primero se importan las librerías necesarias"
   ]
  },
  {
   "cell_type": "code",
   "execution_count": null,
   "metadata": {
    "collapsed": false
   },
   "outputs": [],
   "source": [
    "from utils import *"
   ]
  },
  {
   "attachments": {},
   "cell_type": "markdown",
   "metadata": {
    "collapsed": false
   },
   "source": [
    "## Ejemplo 1"
   ]
  },
  {
   "attachments": {},
   "cell_type": "markdown",
   "metadata": {
    "collapsed": false
   },
   "source": [
    "Se genera un tensor de orden $d=2$ (matriz) con dimensiones $N_1 = 13$ y $N_2 = 6$ y un vector aleatorio como lado derecho"
   ]
  },
  {
   "cell_type": "code",
   "execution_count": null,
   "metadata": {
    "collapsed": false
   },
   "outputs": [],
   "source": [
    "N = [13, 6]\n",
    "\n",
    "#  *****      definimos A     *****\n",
    "A = kronecker_product_l([np.eye(N[i]) for i in range(len(N))])\n",
    "a_1 = np.diag([-1,-1],-1) + np.diag([-1,-1],1) + 6*np.eye(3)\n",
    "A = kronecker_product_l([np.eye(N[0]),a_1,np.eye(2)])\n",
    "\n",
    "# imprime dibujo de A \n",
    "\n",
    "plt.spy(A, precision=0, marker=None, markersize=None, aspect='equal', origin='upper')"
   ]
  },
  {
   "cell_type": "code",
   "execution_count": null,
   "metadata": {},
   "outputs": [],
   "source": [
    "\n",
    "#  *****      definimos f    *****\n",
    "f = 10*np.random.rand(np.prod(N))\n",
    "\n",
    "#  *****     definimos los parámetros del problema     *****\n",
    "itera_max = 1000\n",
    "tol = 2.22E-16\n",
    "rank_max = 1000\n",
    "e = 1.0E-8\n",
    "\n",
    "#  *****     resolvemos el problema     *****\n",
    "\n",
    "result = GROU(f, A, e, tol, rank_max, itera_max,N = [13, 6],inner_procedure=ALS3)\n",
    "print(result[0][:9],result[1])"
   ]
  }
 ],
 "metadata": {
  "kernelspec": {
   "display_name": "Python 3",
   "language": "python",
   "name": "python3"
  },
  "language_info": {
   "codemirror_mode": {
    "name": "ipython",
    "version": 2
   },
   "file_extension": ".py",
   "mimetype": "text/x-python",
   "name": "python",
   "nbconvert_exporter": "python",
   "pygments_lexer": "ipython2",
   "version": "2.7.6"
  }
 },
 "nbformat": 4,
 "nbformat_minor": 0
}
